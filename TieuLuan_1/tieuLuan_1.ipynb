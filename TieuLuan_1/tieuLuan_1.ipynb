{
 "cells": [
  {
   "cell_type": "code",
   "execution_count": null,
   "id": "fdb13fd7",
   "metadata": {},
   "outputs": [
    {
     "ename": "",
     "evalue": "",
     "output_type": "error",
     "traceback": [
      "\u001b[1;31mRunning cells with 'vision_env (Python 3.10.16)' requires the ipykernel package.\n",
      "\u001b[1;31m<a href='command:jupyter.createPythonEnvAndSelectController'>Create a Python Environment</a> with the required packages.\n",
      "\u001b[1;31mOr install 'ipykernel' using the command: 'conda install -n vision_env ipykernel --update-deps --force-reinstall'"
     ]
    }
   ],
   "source": [
    "import cv2\n",
    "import numpy as np\n",
    "import matplotlib.pyplot as plt\n",
    "\n",
    "# Đọc ảnh\n",
    "image = cv2.imread(\"image.jpg\", cv2.IMREAD_GRAYSCALE)\n",
    "\n",
    "# Negative\n",
    "negative_image = 255 - image\n",
    "\n",
    "# Log Transformation\n",
    "c = 255 / np.log(1 + np.max(image))\n",
    "log_image = (c * np.log(1 + image)).astype(np.uint8)\n",
    "\n",
    "# Gamma Correction\n",
    "gamma = 0.5\n",
    "power_law_image = np.array(255 * (image / 255) ** gamma, dtype=np.uint8)\n",
    "\n",
    "# Piecewise-linear Transformation\n",
    "def piecewise_linear_transform(img):\n",
    "    img = np.where(img < 128, img * 2, img * 0.5)\n",
    "    return np.clip(img, 0, 255).astype(np.uint8)\n",
    "piecewise_image = piecewise_linear_transform(image)\n",
    "\n",
    "# Histogram Equalization (global)\n",
    "global_eq = cv2.equalizeHist(image)\n",
    "\n",
    "# Histogram Equalization (custom)\n",
    "def custom_histogram_equalization(img):\n",
    "    hist, bins = np.histogram(img.flatten(), 256, [0,256])\n",
    "    cdf = hist.cumsum()\n",
    "    cdf_normalized = 255 * cdf / cdf[-1]\n",
    "    img_eq = np.interp(img.flatten(), bins[:-1], cdf_normalized)\n",
    "    return img_eq.reshape(img.shape).astype(np.uint8)\n",
    "custom_eq = custom_histogram_equalization(image)\n",
    "\n",
    "# CLAHE\n",
    "clahe = cv2.createCLAHE(clipLimit=2.0, tileGridSize=(8,8))\n",
    "clahe_image = clahe.apply(image)\n",
    "\n",
    "# Hiển thị\n",
    "plt.figure(figsize=(15, 10))\n",
    "titles = [\"Original\", \"Negative\", \"Log\", f\"Gamma (γ={gamma})\", \"Piecewise\",\n",
    "          \"Hist Equalization\", \"Custom Equalization\", \"CLAHE\"]\n",
    "images = [image, negative_image, log_image, power_law_image, piecewise_image,\n",
    "          global_eq, custom_eq, clahe_image]\n",
    "\n",
    "for i in range(8):\n",
    "    plt.subplot(3, 3, i+1)\n",
    "    plt.imshow(images[i], cmap=\"gray\")\n",
    "    plt.title(titles[i])\n",
    "    plt.axis(\"off\")\n",
    "\n",
    "plt.tight_layout()\n",
    "plt.show()"
   ]
  }
 ],
 "metadata": {
  "kernelspec": {
   "display_name": "vision_env",
   "language": "python",
   "name": "python3"
  },
  "language_info": {
   "name": "python",
   "version": "3.10.16"
  }
 },
 "nbformat": 4,
 "nbformat_minor": 5
}
